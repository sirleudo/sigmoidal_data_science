{
  "nbformat": 4,
  "nbformat_minor": 0,
  "metadata": {
    "colab": {
      "name": "Criando DataFrames.ipynb",
      "provenance": [],
      "authorship_tag": "ABX9TyPxgpSbtMW8HWJXTwuYJ8nG",
      "include_colab_link": true
    },
    "kernelspec": {
      "name": "python3",
      "display_name": "Python 3"
    }
  },
  "cells": [
    {
      "cell_type": "markdown",
      "metadata": {
        "id": "view-in-github",
        "colab_type": "text"
      },
      "source": [
        "<a href=\"https://colab.research.google.com/github/sirleudo/sigmoidal_data_science/blob/master/Criando_DataFrames.ipynb\" target=\"_parent\"><img src=\"https://colab.research.google.com/assets/colab-badge.svg\" alt=\"Open In Colab\"/></a>"
      ]
    },
    {
      "cell_type": "markdown",
      "metadata": {
        "id": "vvplGyW2N3rX",
        "colab_type": "text"
      },
      "source": [
        "<img alt=\"Colaboratory logo\" width=\"15%\" src=\"https://github.com/sirleudo/sigmoidal_data_science/blob/master/logo_pensatah.png?raw=true\">\n",
        "\n",
        "#### **Data Science na Prática 2.0**\n",
        "*by Sirleudo Evaristo*\n",
        "\n",
        "---\n",
        "\n",
        "# Criando DataFrames\n",
        "\n",
        "No *notebook* anterior, importamos diretamente um arquivo `csv` da internet para uma estrutura *DataFrame*. Quando usamos a função `pd.read('arquivo.csv')` o Pandas já entendendo como deve agir em relação à estrutura de linhas e colunas.\n",
        "\n",
        "<center><img src=\"https://raw.githubusercontent.com/carlosfab/curso_data_science_na_pratica/master/modulo_02/from_csv_to_df.png\"></center>\n",
        "\n",
        "\n",
        "No entanto, existe a possibilidade de criarmos na mão um *DataFrame* usando diversas técnicas."
      ]
    },
    {
      "cell_type": "markdown",
      "metadata": {
        "id": "pEWCYkgIyuDD",
        "colab_type": "text"
      },
      "source": [
        "## DataFrames a partir de Dicionários\n",
        "\n",
        "Uma das estruturas básicas do Python é o Dicionário. É muito conveniente informarmos nossos dados em uma variável do tipo `dict`, pois sua conversão em *DataFrame* é muito simples e direta."
      ]
    },
    {
      "cell_type": "code",
      "metadata": {
        "id": "q_8PvoUqy8qQ",
        "colab_type": "code",
        "colab": {}
      },
      "source": [
        "# importar pandas\n",
        "import pandas as pd\n"
      ],
      "execution_count": 0,
      "outputs": []
    },
    {
      "cell_type": "code",
      "metadata": {
        "id": "cWjjwVeu3wtD",
        "colab_type": "code",
        "colab": {}
      },
      "source": [
        "# criar dicionário\n",
        "dados = {\n",
        "    'nome': ['Sirleudo', 'Ana Meire', 'Rebeca', 'Renata'],\n",
        "    'idade': [37, 38, 4, 1],\n",
        "    'cidade': ['Ipaumirim', 'Fortaleza', 'Eusébio', 'Crateus'],\n",
        "    'comprou': [True, True, False, False]\n",
        "}"
      ],
      "execution_count": 0,
      "outputs": []
    },
    {
      "cell_type": "code",
      "metadata": {
        "id": "6XQBF7ty5ZSy",
        "colab_type": "code",
        "colab": {}
      },
      "source": [
        "# criar DataFrame\n",
        "df = pd.DataFrame(dados)"
      ],
      "execution_count": 0,
      "outputs": []
    },
    {
      "cell_type": "code",
      "metadata": {
        "id": "5-AxNQPi5h_z",
        "colab_type": "code",
        "colab": {
          "base_uri": "https://localhost:8080/",
          "height": 173
        },
        "outputId": "b8db9061-1396-4c76-9ed3-1261c7febeaa"
      },
      "source": [
        "# visualizar o DataFrame\n",
        "df"
      ],
      "execution_count": 5,
      "outputs": [
        {
          "output_type": "execute_result",
          "data": {
            "text/html": [
              "<div>\n",
              "<style scoped>\n",
              "    .dataframe tbody tr th:only-of-type {\n",
              "        vertical-align: middle;\n",
              "    }\n",
              "\n",
              "    .dataframe tbody tr th {\n",
              "        vertical-align: top;\n",
              "    }\n",
              "\n",
              "    .dataframe thead th {\n",
              "        text-align: right;\n",
              "    }\n",
              "</style>\n",
              "<table border=\"1\" class=\"dataframe\">\n",
              "  <thead>\n",
              "    <tr style=\"text-align: right;\">\n",
              "      <th></th>\n",
              "      <th>nome</th>\n",
              "      <th>idade</th>\n",
              "      <th>cidade</th>\n",
              "      <th>comprou</th>\n",
              "    </tr>\n",
              "  </thead>\n",
              "  <tbody>\n",
              "    <tr>\n",
              "      <th>0</th>\n",
              "      <td>Sirleudo</td>\n",
              "      <td>37</td>\n",
              "      <td>Ipaumirim</td>\n",
              "      <td>True</td>\n",
              "    </tr>\n",
              "    <tr>\n",
              "      <th>1</th>\n",
              "      <td>Ana Meire</td>\n",
              "      <td>38</td>\n",
              "      <td>Fortaleza</td>\n",
              "      <td>True</td>\n",
              "    </tr>\n",
              "    <tr>\n",
              "      <th>2</th>\n",
              "      <td>Rebeca</td>\n",
              "      <td>4</td>\n",
              "      <td>Eusébio</td>\n",
              "      <td>False</td>\n",
              "    </tr>\n",
              "    <tr>\n",
              "      <th>3</th>\n",
              "      <td>Renata</td>\n",
              "      <td>1</td>\n",
              "      <td>Crateus</td>\n",
              "      <td>False</td>\n",
              "    </tr>\n",
              "  </tbody>\n",
              "</table>\n",
              "</div>"
            ],
            "text/plain": [
              "        nome  idade     cidade  comprou\n",
              "0   Sirleudo     37  Ipaumirim     True\n",
              "1  Ana Meire     38  Fortaleza     True\n",
              "2     Rebeca      4    Eusébio    False\n",
              "3     Renata      1    Crateus    False"
            ]
          },
          "metadata": {
            "tags": []
          },
          "execution_count": 5
        }
      ]
    },
    {
      "cell_type": "code",
      "metadata": {
        "id": "20wyWXWm5lzc",
        "colab_type": "code",
        "colab": {}
      },
      "source": [
        "# criar id de usuário\n",
        "id_usuario = [1, 2, 3, 4]"
      ],
      "execution_count": 0,
      "outputs": []
    },
    {
      "cell_type": "code",
      "metadata": {
        "id": "fehSofLt5tfg",
        "colab_type": "code",
        "colab": {}
      },
      "source": [
        "# associar o id usuario a lista\n",
        "df.index = id_usuario"
      ],
      "execution_count": 0,
      "outputs": []
    },
    {
      "cell_type": "code",
      "metadata": {
        "id": "-Xufvyf859da",
        "colab_type": "code",
        "colab": {
          "base_uri": "https://localhost:8080/",
          "height": 173
        },
        "outputId": "4495ec18-1374-444c-dfca-91ae806a8492"
      },
      "source": [
        "# ver o dataframe\n",
        "df"
      ],
      "execution_count": 10,
      "outputs": [
        {
          "output_type": "execute_result",
          "data": {
            "text/html": [
              "<div>\n",
              "<style scoped>\n",
              "    .dataframe tbody tr th:only-of-type {\n",
              "        vertical-align: middle;\n",
              "    }\n",
              "\n",
              "    .dataframe tbody tr th {\n",
              "        vertical-align: top;\n",
              "    }\n",
              "\n",
              "    .dataframe thead th {\n",
              "        text-align: right;\n",
              "    }\n",
              "</style>\n",
              "<table border=\"1\" class=\"dataframe\">\n",
              "  <thead>\n",
              "    <tr style=\"text-align: right;\">\n",
              "      <th></th>\n",
              "      <th>nome</th>\n",
              "      <th>idade</th>\n",
              "      <th>cidade</th>\n",
              "      <th>comprou</th>\n",
              "    </tr>\n",
              "  </thead>\n",
              "  <tbody>\n",
              "    <tr>\n",
              "      <th>1</th>\n",
              "      <td>Sirleudo</td>\n",
              "      <td>37</td>\n",
              "      <td>Ipaumirim</td>\n",
              "      <td>True</td>\n",
              "    </tr>\n",
              "    <tr>\n",
              "      <th>2</th>\n",
              "      <td>Ana Meire</td>\n",
              "      <td>38</td>\n",
              "      <td>Fortaleza</td>\n",
              "      <td>True</td>\n",
              "    </tr>\n",
              "    <tr>\n",
              "      <th>3</th>\n",
              "      <td>Rebeca</td>\n",
              "      <td>4</td>\n",
              "      <td>Eusébio</td>\n",
              "      <td>False</td>\n",
              "    </tr>\n",
              "    <tr>\n",
              "      <th>4</th>\n",
              "      <td>Renata</td>\n",
              "      <td>1</td>\n",
              "      <td>Crateus</td>\n",
              "      <td>False</td>\n",
              "    </tr>\n",
              "  </tbody>\n",
              "</table>\n",
              "</div>"
            ],
            "text/plain": [
              "        nome  idade     cidade  comprou\n",
              "1   Sirleudo     37  Ipaumirim     True\n",
              "2  Ana Meire     38  Fortaleza     True\n",
              "3     Rebeca      4    Eusébio    False\n",
              "4     Renata      1    Crateus    False"
            ]
          },
          "metadata": {
            "tags": []
          },
          "execution_count": 10
        }
      ]
    },
    {
      "cell_type": "markdown",
      "metadata": {
        "id": "9W1kkP7B6IMh",
        "colab_type": "text"
      },
      "source": [
        "## DataFrames a partir de Listas\n",
        "Listas também são estruturas muito usadas em Python, e não é incomum termos que criar DataFrames a partir destas.\n",
        "\n",
        "Para organizar nossas várias listas de um modo que seja fácil sia conversão em DataFrame, vou usar a função built-in zip()."
      ]
    },
    {
      "cell_type": "code",
      "metadata": {
        "id": "0j6OP99_6NJJ",
        "colab_type": "code",
        "colab": {
          "base_uri": "https://localhost:8080/",
          "height": 173
        },
        "outputId": "20b41528-f31f-4a2a-fe17-5866da4f917e"
      },
      "source": [
        "# lista\n",
        "dados = [['Sirleudo', 37, 'Ipaumirim', True],\n",
        "         ['Ana Meire', 38, 'Fortaleza', True],\n",
        "         ['Rebeca', 4, 'Eusébio', False],\n",
        "         ['Renata', 1, 'Crateus', False]]\n",
        "\n",
        "# criar DataFrame\n",
        "df = pd.DataFrame(dados, columns=['nome', 'idade', 'cidade', 'comprou'],\n",
        "                  index = [123, 124, 125, 126])\n",
        "\n",
        "# visualizar DataFrame\n",
        "df\n"
      ],
      "execution_count": 12,
      "outputs": [
        {
          "output_type": "execute_result",
          "data": {
            "text/html": [
              "<div>\n",
              "<style scoped>\n",
              "    .dataframe tbody tr th:only-of-type {\n",
              "        vertical-align: middle;\n",
              "    }\n",
              "\n",
              "    .dataframe tbody tr th {\n",
              "        vertical-align: top;\n",
              "    }\n",
              "\n",
              "    .dataframe thead th {\n",
              "        text-align: right;\n",
              "    }\n",
              "</style>\n",
              "<table border=\"1\" class=\"dataframe\">\n",
              "  <thead>\n",
              "    <tr style=\"text-align: right;\">\n",
              "      <th></th>\n",
              "      <th>nome</th>\n",
              "      <th>idade</th>\n",
              "      <th>cidade</th>\n",
              "      <th>comprou</th>\n",
              "    </tr>\n",
              "  </thead>\n",
              "  <tbody>\n",
              "    <tr>\n",
              "      <th>123</th>\n",
              "      <td>Sirleudo</td>\n",
              "      <td>37</td>\n",
              "      <td>Ipaumirim</td>\n",
              "      <td>True</td>\n",
              "    </tr>\n",
              "    <tr>\n",
              "      <th>124</th>\n",
              "      <td>Ana Meire</td>\n",
              "      <td>38</td>\n",
              "      <td>Fortaleza</td>\n",
              "      <td>True</td>\n",
              "    </tr>\n",
              "    <tr>\n",
              "      <th>125</th>\n",
              "      <td>Rebeca</td>\n",
              "      <td>4</td>\n",
              "      <td>Eusébio</td>\n",
              "      <td>False</td>\n",
              "    </tr>\n",
              "    <tr>\n",
              "      <th>126</th>\n",
              "      <td>Renata</td>\n",
              "      <td>1</td>\n",
              "      <td>Crateus</td>\n",
              "      <td>False</td>\n",
              "    </tr>\n",
              "  </tbody>\n",
              "</table>\n",
              "</div>"
            ],
            "text/plain": [
              "          nome  idade     cidade  comprou\n",
              "123   Sirleudo     37  Ipaumirim     True\n",
              "124  Ana Meire     38  Fortaleza     True\n",
              "125     Rebeca      4    Eusébio    False\n",
              "126     Renata      1    Crateus    False"
            ]
          },
          "metadata": {
            "tags": []
          },
          "execution_count": 12
        }
      ]
    },
    {
      "cell_type": "code",
      "metadata": {
        "id": "YqmBnYzz7MFj",
        "colab_type": "code",
        "colab": {
          "base_uri": "https://localhost:8080/",
          "height": 102
        },
        "outputId": "665944f8-908d-49b6-d65f-d86c351e09c2"
      },
      "source": [
        "# selecionar pelo index\n",
        "df.loc[123]"
      ],
      "execution_count": 13,
      "outputs": [
        {
          "output_type": "execute_result",
          "data": {
            "text/plain": [
              "nome        Sirleudo\n",
              "idade             37\n",
              "cidade     Ipaumirim\n",
              "comprou         True\n",
              "Name: 123, dtype: object"
            ]
          },
          "metadata": {
            "tags": []
          },
          "execution_count": 13
        }
      ]
    },
    {
      "cell_type": "markdown",
      "metadata": {
        "id": "3J_3wi2n7i3U",
        "colab_type": "text"
      },
      "source": [
        "## Criar novas colunas\n",
        "Uma maneira extremamente conveniente de criar novas colunas em um DataFrame é usar uma funcionalidade do Pandas conhecida como broadcasting.\n",
        "\n",
        "Informanda o nome da nova coluna e declarando apenas um valor, este é replicado para todas as linhas do DataFrame"
      ]
    },
    {
      "cell_type": "code",
      "metadata": {
        "id": "sYnH0ogG7mVD",
        "colab_type": "code",
        "colab": {
          "base_uri": "https://localhost:8080/",
          "height": 173
        },
        "outputId": "d903b934-7634-4ca7-f0e3-b3faaeaca18f"
      },
      "source": [
        "# criar coluna 'saldo'\n",
        "df['saldo'] = 0.0\n",
        "\n",
        "# visualizar o DataFrame\n",
        "df"
      ],
      "execution_count": 14,
      "outputs": [
        {
          "output_type": "execute_result",
          "data": {
            "text/html": [
              "<div>\n",
              "<style scoped>\n",
              "    .dataframe tbody tr th:only-of-type {\n",
              "        vertical-align: middle;\n",
              "    }\n",
              "\n",
              "    .dataframe tbody tr th {\n",
              "        vertical-align: top;\n",
              "    }\n",
              "\n",
              "    .dataframe thead th {\n",
              "        text-align: right;\n",
              "    }\n",
              "</style>\n",
              "<table border=\"1\" class=\"dataframe\">\n",
              "  <thead>\n",
              "    <tr style=\"text-align: right;\">\n",
              "      <th></th>\n",
              "      <th>nome</th>\n",
              "      <th>idade</th>\n",
              "      <th>cidade</th>\n",
              "      <th>comprou</th>\n",
              "      <th>saldo</th>\n",
              "    </tr>\n",
              "  </thead>\n",
              "  <tbody>\n",
              "    <tr>\n",
              "      <th>123</th>\n",
              "      <td>Sirleudo</td>\n",
              "      <td>37</td>\n",
              "      <td>Ipaumirim</td>\n",
              "      <td>True</td>\n",
              "      <td>0.0</td>\n",
              "    </tr>\n",
              "    <tr>\n",
              "      <th>124</th>\n",
              "      <td>Ana Meire</td>\n",
              "      <td>38</td>\n",
              "      <td>Fortaleza</td>\n",
              "      <td>True</td>\n",
              "      <td>0.0</td>\n",
              "    </tr>\n",
              "    <tr>\n",
              "      <th>125</th>\n",
              "      <td>Rebeca</td>\n",
              "      <td>4</td>\n",
              "      <td>Eusébio</td>\n",
              "      <td>False</td>\n",
              "      <td>0.0</td>\n",
              "    </tr>\n",
              "    <tr>\n",
              "      <th>126</th>\n",
              "      <td>Renata</td>\n",
              "      <td>1</td>\n",
              "      <td>Crateus</td>\n",
              "      <td>False</td>\n",
              "      <td>0.0</td>\n",
              "    </tr>\n",
              "  </tbody>\n",
              "</table>\n",
              "</div>"
            ],
            "text/plain": [
              "          nome  idade     cidade  comprou  saldo\n",
              "123   Sirleudo     37  Ipaumirim     True    0.0\n",
              "124  Ana Meire     38  Fortaleza     True    0.0\n",
              "125     Rebeca      4    Eusébio    False    0.0\n",
              "126     Renata      1    Crateus    False    0.0"
            ]
          },
          "metadata": {
            "tags": []
          },
          "execution_count": 14
        }
      ]
    },
    {
      "cell_type": "markdown",
      "metadata": {
        "id": "R3kt-9eR71A6",
        "colab_type": "text"
      },
      "source": [
        "## Modificar *index* e colunas\n",
        "Às vezes, precisamos alterar o nome dos índices ou o label das colunas. Se você olhar na célula acima, veja que na esquerda do DataFrame o index de cada linha é representado por um número entre 0 e 3.\n",
        "\n",
        "É possível alterar esse atributo da variável acessando diretamente assim:"
      ]
    },
    {
      "cell_type": "code",
      "metadata": {
        "id": "np5hj_HP73jl",
        "colab_type": "code",
        "colab": {
          "base_uri": "https://localhost:8080/",
          "height": 34
        },
        "outputId": "0e3f4d17-a89f-491d-d49a-f9580b182ac2"
      },
      "source": [
        "df.index"
      ],
      "execution_count": 15,
      "outputs": [
        {
          "output_type": "execute_result",
          "data": {
            "text/plain": [
              "Int64Index([123, 124, 125, 126], dtype='int64')"
            ]
          },
          "metadata": {
            "tags": []
          },
          "execution_count": 15
        }
      ]
    },
    {
      "cell_type": "code",
      "metadata": {
        "id": "AvVjUOnj7569",
        "colab_type": "code",
        "colab": {
          "base_uri": "https://localhost:8080/",
          "height": 173
        },
        "outputId": "285facbf-283f-4e47-83ca-3a3f07fe5ae4"
      },
      "source": [
        "# alterar o index do df\n",
        "df.index = ['A', 'B', 'C', 'D']\n",
        "\n",
        "# visualizar o DataFRame\n",
        "df"
      ],
      "execution_count": 16,
      "outputs": [
        {
          "output_type": "execute_result",
          "data": {
            "text/html": [
              "<div>\n",
              "<style scoped>\n",
              "    .dataframe tbody tr th:only-of-type {\n",
              "        vertical-align: middle;\n",
              "    }\n",
              "\n",
              "    .dataframe tbody tr th {\n",
              "        vertical-align: top;\n",
              "    }\n",
              "\n",
              "    .dataframe thead th {\n",
              "        text-align: right;\n",
              "    }\n",
              "</style>\n",
              "<table border=\"1\" class=\"dataframe\">\n",
              "  <thead>\n",
              "    <tr style=\"text-align: right;\">\n",
              "      <th></th>\n",
              "      <th>nome</th>\n",
              "      <th>idade</th>\n",
              "      <th>cidade</th>\n",
              "      <th>comprou</th>\n",
              "      <th>saldo</th>\n",
              "    </tr>\n",
              "  </thead>\n",
              "  <tbody>\n",
              "    <tr>\n",
              "      <th>A</th>\n",
              "      <td>Sirleudo</td>\n",
              "      <td>37</td>\n",
              "      <td>Ipaumirim</td>\n",
              "      <td>True</td>\n",
              "      <td>0.0</td>\n",
              "    </tr>\n",
              "    <tr>\n",
              "      <th>B</th>\n",
              "      <td>Ana Meire</td>\n",
              "      <td>38</td>\n",
              "      <td>Fortaleza</td>\n",
              "      <td>True</td>\n",
              "      <td>0.0</td>\n",
              "    </tr>\n",
              "    <tr>\n",
              "      <th>C</th>\n",
              "      <td>Rebeca</td>\n",
              "      <td>4</td>\n",
              "      <td>Eusébio</td>\n",
              "      <td>False</td>\n",
              "      <td>0.0</td>\n",
              "    </tr>\n",
              "    <tr>\n",
              "      <th>D</th>\n",
              "      <td>Renata</td>\n",
              "      <td>1</td>\n",
              "      <td>Crateus</td>\n",
              "      <td>False</td>\n",
              "      <td>0.0</td>\n",
              "    </tr>\n",
              "  </tbody>\n",
              "</table>\n",
              "</div>"
            ],
            "text/plain": [
              "        nome  idade     cidade  comprou  saldo\n",
              "A   Sirleudo     37  Ipaumirim     True    0.0\n",
              "B  Ana Meire     38  Fortaleza     True    0.0\n",
              "C     Rebeca      4    Eusébio    False    0.0\n",
              "D     Renata      1    Crateus    False    0.0"
            ]
          },
          "metadata": {
            "tags": []
          },
          "execution_count": 16
        }
      ]
    },
    {
      "cell_type": "markdown",
      "metadata": {
        "id": "nXzc7Wvs8TVR",
        "colab_type": "text"
      },
      "source": [
        "Da mesma maneira, se eu precisar alterar o nome das colunas, posso alterar diretamente no atributo da variável:"
      ]
    },
    {
      "cell_type": "code",
      "metadata": {
        "id": "koIgRW-o8Ubz",
        "colab_type": "code",
        "colab": {
          "base_uri": "https://localhost:8080/",
          "height": 173
        },
        "outputId": "7971f77c-c816-43c5-b2de-79ae104874ee"
      },
      "source": [
        "# alterar os labels das colunas\n",
        "df.columns = ['Nome do Cliente', \"Idade\", \"Naturalidade\", \"Fez Compras?\", \"Saldo na Loja\"]\n",
        "\n",
        "# visualizar DataFrame\n",
        "df"
      ],
      "execution_count": 23,
      "outputs": [
        {
          "output_type": "execute_result",
          "data": {
            "text/html": [
              "<div>\n",
              "<style scoped>\n",
              "    .dataframe tbody tr th:only-of-type {\n",
              "        vertical-align: middle;\n",
              "    }\n",
              "\n",
              "    .dataframe tbody tr th {\n",
              "        vertical-align: top;\n",
              "    }\n",
              "\n",
              "    .dataframe thead th {\n",
              "        text-align: right;\n",
              "    }\n",
              "</style>\n",
              "<table border=\"1\" class=\"dataframe\">\n",
              "  <thead>\n",
              "    <tr style=\"text-align: right;\">\n",
              "      <th></th>\n",
              "      <th>Nome do Cliente</th>\n",
              "      <th>Idade</th>\n",
              "      <th>Naturalidade</th>\n",
              "      <th>Fez Compras?</th>\n",
              "      <th>Saldo na Loja</th>\n",
              "    </tr>\n",
              "  </thead>\n",
              "  <tbody>\n",
              "    <tr>\n",
              "      <th>A</th>\n",
              "      <td>Sirleudo</td>\n",
              "      <td>37</td>\n",
              "      <td>Ipaumirim</td>\n",
              "      <td>True</td>\n",
              "      <td>0.0</td>\n",
              "    </tr>\n",
              "    <tr>\n",
              "      <th>B</th>\n",
              "      <td>Ana Meire</td>\n",
              "      <td>38</td>\n",
              "      <td>Fortaleza</td>\n",
              "      <td>True</td>\n",
              "      <td>0.0</td>\n",
              "    </tr>\n",
              "    <tr>\n",
              "      <th>C</th>\n",
              "      <td>Rebeca</td>\n",
              "      <td>4</td>\n",
              "      <td>Eusébio</td>\n",
              "      <td>False</td>\n",
              "      <td>0.0</td>\n",
              "    </tr>\n",
              "    <tr>\n",
              "      <th>D</th>\n",
              "      <td>Renata</td>\n",
              "      <td>1</td>\n",
              "      <td>Crateus</td>\n",
              "      <td>False</td>\n",
              "      <td>0.0</td>\n",
              "    </tr>\n",
              "  </tbody>\n",
              "</table>\n",
              "</div>"
            ],
            "text/plain": [
              "  Nome do Cliente  Idade Naturalidade  Fez Compras?  Saldo na Loja\n",
              "A        Sirleudo     37    Ipaumirim          True            0.0\n",
              "B       Ana Meire     38    Fortaleza          True            0.0\n",
              "C          Rebeca      4      Eusébio         False            0.0\n",
              "D          Renata      1      Crateus         False            0.0"
            ]
          },
          "metadata": {
            "tags": []
          },
          "execution_count": 23
        }
      ]
    },
    {
      "cell_type": "code",
      "metadata": {
        "id": "vOvakWDD8rFh",
        "colab_type": "code",
        "colab": {}
      },
      "source": [
        ""
      ],
      "execution_count": 0,
      "outputs": []
    }
  ]
}