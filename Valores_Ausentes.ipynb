{
  "nbformat": 4,
  "nbformat_minor": 0,
  "metadata": {
    "colab": {
      "name": "Valores Ausentes.ipynb",
      "provenance": [],
      "authorship_tag": "ABX9TyNgDuaDatu3ElF4PDp09ivN",
      "include_colab_link": true
    },
    "kernelspec": {
      "name": "python3",
      "display_name": "Python 3"
    }
  },
  "cells": [
    {
      "cell_type": "markdown",
      "metadata": {
        "id": "view-in-github",
        "colab_type": "text"
      },
      "source": [
        "<a href=\"https://colab.research.google.com/github/sirleudo/sigmoidal_data_science/blob/master/Valores_Ausentes.ipynb\" target=\"_parent\"><img src=\"https://colab.research.google.com/assets/colab-badge.svg\" alt=\"Open In Colab\"/></a>"
      ]
    },
    {
      "cell_type": "markdown",
      "metadata": {
        "id": "aZDMv1S7HdTN",
        "colab_type": "text"
      },
      "source": [
        "<img alt=\"Colaboratory logo\" width=\"15%\" src=\"https://github.com/sirleudo/sigmoidal_data_science/blob/master/logo_pensatah.png?raw=true\">\n",
        "\n",
        "#### **Data Science na Prática 2.0**\n",
        "*by Sirleudo Evaristo*\n",
        "\n",
        "---\n",
        "\n",
        "# Valores Ausentes\n",
        "\n",
        "Se você está lidando com bases de dados do mundo real, pode ter certeza que estará lidando com dados incompletos ou valores ausentes.\n",
        "\n",
        "Muitas vezes esses dados são inseridos por pessoas, manualmente. Há casos em que você já tinha séries históricas de anos, e em determinado momento alguém resolveu adicionar uma nova coluna.\n",
        "\n",
        "Existem inúmeras técnicas para lidar com esse tipo de problema, e nesta aula vamos falar de duas das principais abordagens.\n",
        "\n",
        "Antes, vamos importar os dados do Projeto +BIKE."
      ]
    },
    {
      "cell_type": "code",
      "metadata": {
        "id": "JKGM-YvOHYhr",
        "colab_type": "code",
        "colab": {
          "base_uri": "https://localhost:8080/",
          "height": 289
        },
        "outputId": "aa76a1f5-8617-4af3-d465-5e1ee4bf2972"
      },
      "source": [
        "DATA_PATH = \"http://dl.dropboxusercontent.com/s/yyfeoxqw61o3iel/df_rides.csv\"\n",
        "\n",
        "# importar os pacotes necessários\n",
        "import pandas as pd\n",
        "\n",
        "# importar o dataset\n",
        "df = pd.read_csv(DATA_PATH)\n",
        "\n",
        "# ver as primeiras entradas\n",
        "df.head()\n"
      ],
      "execution_count": 1,
      "outputs": [
        {
          "output_type": "execute_result",
          "data": {
            "text/html": [
              "<div>\n",
              "<style scoped>\n",
              "    .dataframe tbody tr th:only-of-type {\n",
              "        vertical-align: middle;\n",
              "    }\n",
              "\n",
              "    .dataframe tbody tr th {\n",
              "        vertical-align: top;\n",
              "    }\n",
              "\n",
              "    .dataframe thead th {\n",
              "        text-align: right;\n",
              "    }\n",
              "</style>\n",
              "<table border=\"1\" class=\"dataframe\">\n",
              "  <thead>\n",
              "    <tr style=\"text-align: right;\">\n",
              "      <th></th>\n",
              "      <th>user_gender</th>\n",
              "      <th>user_birthdate</th>\n",
              "      <th>user_residence</th>\n",
              "      <th>ride_date</th>\n",
              "      <th>time_start</th>\n",
              "      <th>time_end</th>\n",
              "      <th>station_start</th>\n",
              "      <th>station_end</th>\n",
              "      <th>ride_duration</th>\n",
              "      <th>ride_late</th>\n",
              "    </tr>\n",
              "  </thead>\n",
              "  <tbody>\n",
              "    <tr>\n",
              "      <th>0</th>\n",
              "      <td>M</td>\n",
              "      <td>1971-06-08</td>\n",
              "      <td>NaN</td>\n",
              "      <td>2018-01-01</td>\n",
              "      <td>06:05:18</td>\n",
              "      <td>06:21:33</td>\n",
              "      <td>11 - Rodoviária 2</td>\n",
              "      <td>41 - Instituto de Artes</td>\n",
              "      <td>16.250000</td>\n",
              "      <td>0.0</td>\n",
              "    </tr>\n",
              "    <tr>\n",
              "      <th>1</th>\n",
              "      <td>M</td>\n",
              "      <td>1989-02-11</td>\n",
              "      <td>DF</td>\n",
              "      <td>2018-01-01</td>\n",
              "      <td>06:27:01</td>\n",
              "      <td>06:32:17</td>\n",
              "      <td>26 - Ministério da Saude</td>\n",
              "      <td>28 - CNMP - Conselho Nacional do Ministério Pú...</td>\n",
              "      <td>5.266667</td>\n",
              "      <td>0.0</td>\n",
              "    </tr>\n",
              "    <tr>\n",
              "      <th>2</th>\n",
              "      <td>M</td>\n",
              "      <td>1968-07-19</td>\n",
              "      <td>NaN</td>\n",
              "      <td>2018-01-01</td>\n",
              "      <td>06:29:33</td>\n",
              "      <td>06:44:57</td>\n",
              "      <td>11 - Rodoviária 2</td>\n",
              "      <td>43 - Biblioteca Central</td>\n",
              "      <td>15.400000</td>\n",
              "      <td>0.0</td>\n",
              "    </tr>\n",
              "    <tr>\n",
              "      <th>3</th>\n",
              "      <td>M</td>\n",
              "      <td>1991-12-19</td>\n",
              "      <td>NaN</td>\n",
              "      <td>2018-01-01</td>\n",
              "      <td>06:53:53</td>\n",
              "      <td>06:59:45</td>\n",
              "      <td>10 - Ministério dos Transportes</td>\n",
              "      <td>6 - Rodoviária</td>\n",
              "      <td>5.866667</td>\n",
              "      <td>0.0</td>\n",
              "    </tr>\n",
              "    <tr>\n",
              "      <th>4</th>\n",
              "      <td>M</td>\n",
              "      <td>1969-03-03</td>\n",
              "      <td>DF</td>\n",
              "      <td>2018-01-01</td>\n",
              "      <td>06:58:56</td>\n",
              "      <td>17:40:04</td>\n",
              "      <td>15 - Brasil 21</td>\n",
              "      <td>11 - Rodoviária 2</td>\n",
              "      <td>641.133333</td>\n",
              "      <td>1.0</td>\n",
              "    </tr>\n",
              "  </tbody>\n",
              "</table>\n",
              "</div>"
            ],
            "text/plain": [
              "  user_gender user_birthdate  ... ride_duration ride_late\n",
              "0           M     1971-06-08  ...     16.250000       0.0\n",
              "1           M     1989-02-11  ...      5.266667       0.0\n",
              "2           M     1968-07-19  ...     15.400000       0.0\n",
              "3           M     1991-12-19  ...      5.866667       0.0\n",
              "4           M     1969-03-03  ...    641.133333       1.0\n",
              "\n",
              "[5 rows x 10 columns]"
            ]
          },
          "metadata": {
            "tags": []
          },
          "execution_count": 1
        }
      ]
    },
    {
      "cell_type": "markdown",
      "metadata": {
        "id": "STBoi5wnIhKn",
        "colab_type": "text"
      },
      "source": [
        "Verificar a quantidade de linhas e colunas usando o médoto `shape[0]` e `shape[1]`."
      ]
    },
    {
      "cell_type": "code",
      "metadata": {
        "id": "ic5RUlPIIZbH",
        "colab_type": "code",
        "colab": {
          "base_uri": "https://localhost:8080/",
          "height": 34
        },
        "outputId": "d83d8cc9-0ebb-4d36-c74c-b9243107353a"
      },
      "source": [
        "df.shape[0], df.shape[1]"
      ],
      "execution_count": 6,
      "outputs": [
        {
          "output_type": "execute_result",
          "data": {
            "text/plain": [
              "(287322, 10)"
            ]
          },
          "metadata": {
            "tags": []
          },
          "execution_count": 6
        }
      ]
    },
    {
      "cell_type": "markdown",
      "metadata": {
        "id": "Val4k2vMJX99",
        "colab_type": "text"
      },
      "source": [
        "## Identificando os valores ausentes\n",
        "\n",
        "Já vimos anteriormente como identificar valores do tipo `NaN`. É indispensável identificar a quantidade de valores ausentes e qual a representatividade dessa quantidade frente ao total de entradas."
      ]
    },
    {
      "cell_type": "code",
      "metadata": {
        "id": "fVcSdoZyIsIy",
        "colab_type": "code",
        "colab": {
          "base_uri": "https://localhost:8080/",
          "height": 204
        },
        "outputId": "03a6654f-5f54-4710-e7fa-c12d9ae8b288"
      },
      "source": [
        "# ver a quantidade de valores ausentes\n",
        "df.isnull().sum()"
      ],
      "execution_count": 10,
      "outputs": [
        {
          "output_type": "execute_result",
          "data": {
            "text/plain": [
              "user_gender          396\n",
              "user_birthdate         1\n",
              "user_residence    179905\n",
              "ride_date              0\n",
              "time_start             0\n",
              "time_end           43285\n",
              "station_start          0\n",
              "station_end            0\n",
              "ride_duration      73174\n",
              "ride_late          73174\n",
              "dtype: int64"
            ]
          },
          "metadata": {
            "tags": []
          },
          "execution_count": 10
        }
      ]
    },
    {
      "cell_type": "code",
      "metadata": {
        "id": "tBcHeGaPJkl_",
        "colab_type": "code",
        "colab": {
          "base_uri": "https://localhost:8080/",
          "height": 204
        },
        "outputId": "b68910b5-0858-4b0d-8d94-aa14c6d98fb5"
      },
      "source": [
        "# ver a porcentagem do valores ausentes\n",
        "df.isnull().sum() / df.shape[0]"
      ],
      "execution_count": 11,
      "outputs": [
        {
          "output_type": "execute_result",
          "data": {
            "text/plain": [
              "user_gender       0.001378\n",
              "user_birthdate    0.000003\n",
              "user_residence    0.626144\n",
              "ride_date         0.000000\n",
              "time_start        0.000000\n",
              "time_end          0.150650\n",
              "station_start     0.000000\n",
              "station_end       0.000000\n",
              "ride_duration     0.254676\n",
              "ride_late         0.254676\n",
              "dtype: float64"
            ]
          },
          "metadata": {
            "tags": []
          },
          "execution_count": 11
        }
      ]
    },
    {
      "cell_type": "markdown",
      "metadata": {
        "id": "9TdTYft2KG7k",
        "colab_type": "text"
      },
      "source": [
        "## Excluir valores ausentes\n",
        "\n",
        "Está é uma primeira opção quando você está lidando com valores nulos do tipo `NaN` no seu *DataFrame*.\n",
        "\n",
        "Entretanto, ela tende a não ser ideal, pois por causa do valor de uma única célula, você elimina os dados existentes em outras colunas. Esta opção deve ser considerada no caso da quantidade de dados nulos serem pequenos a ponto de não ter representatividade no dataset\n",
        "\n",
        "Eu consigo excluir tanto linhas com valores ausentes quanto colunas inteiras. Para que o Pandas saiba se a sua inteção é de eliminar linhas (`axis=0`) ou colunas (`axis=1`), você deve informar dentro do método `dropna()`."
      ]
    },
    {
      "cell_type": "code",
      "metadata": {
        "id": "y8Kclr-JJ8nC",
        "colab_type": "code",
        "colab": {
          "base_uri": "https://localhost:8080/",
          "height": 51
        },
        "outputId": "2d554021-8285-4410-bdaf-9056c34359cc"
      },
      "source": [
        "# eliminar todas as entradas onde existam valores ausentes em 'user_gender'\n",
        "df_clean = df.dropna(subset=['user_gender'], axis=0)\n",
        "\n",
        "# comparar o antes e o depois\n",
        "print(\"Antes:\\t{}\".format(df.shape))\n",
        "print(\"Depois:\\t{}\".format(df_clean.shape))"
      ],
      "execution_count": 14,
      "outputs": [
        {
          "output_type": "stream",
          "text": [
            "Antes:\t(287322, 10)\n",
            "Depois:\t(286926, 10)\n"
          ],
          "name": "stdout"
        }
      ]
    },
    {
      "cell_type": "markdown",
      "metadata": {
        "id": "NsNkhBR0MEh1",
        "colab_type": "text"
      },
      "source": [
        "## Preencher valores\n",
        "\n",
        "Esta normalmente é a melhor opção, pois permite que você mantenha dados existentes em outras células.\n",
        "\n",
        "Uma pergunta que normalmente surge é: \"mas eu substituo o valor ausente por qual valor?\". A resposta para essa pergunta é: depende.\n",
        "\n",
        "Existem técnicas simples como usar valor mais frequente, media e mediana, assim como há técnicas mais avançadas que envolvem até mesmo o uso de modelos de *machine learning* cuja função é dizer qual valor usar nesses campos.\n",
        "\n",
        "Vou mostrar como você pode usar a mediana para preencher os campos ausentes da coluna `ride_duration`, com o uso da função `fillna()`"
      ]
    },
    {
      "cell_type": "code",
      "metadata": {
        "id": "ZOgmFRUkLcrT",
        "colab_type": "code",
        "colab": {
          "base_uri": "https://localhost:8080/",
          "height": 204
        },
        "outputId": "cce81eb7-02c1-4e45-857f-80bd55a84e78"
      },
      "source": [
        "# anter\n",
        "df_clean.isnull().sum()"
      ],
      "execution_count": 15,
      "outputs": [
        {
          "output_type": "execute_result",
          "data": {
            "text/plain": [
              "user_gender            0\n",
              "user_birthdate         1\n",
              "user_residence    179818\n",
              "ride_date              0\n",
              "time_start             0\n",
              "time_end           43212\n",
              "station_start          0\n",
              "station_end            0\n",
              "ride_duration      73064\n",
              "ride_late          73064\n",
              "dtype: int64"
            ]
          },
          "metadata": {
            "tags": []
          },
          "execution_count": 15
        }
      ]
    },
    {
      "cell_type": "code",
      "metadata": {
        "id": "bW4bte_nMWx1",
        "colab_type": "code",
        "colab": {
          "base_uri": "https://localhost:8080/",
          "height": 204
        },
        "outputId": "56bbb107-192c-44a0-a20d-e7f500c04b86"
      },
      "source": [
        "# preencher valores ausentes em 'ride_duration' com a mediana\n",
        "rd_median = df_clean.ride_duration.median()\n",
        "df_clean = df_clean.fillna({\"ride_duration\": rd_median})\n",
        "\n",
        "# ver valores ausentes\n",
        "df_clean.isnull().sum()"
      ],
      "execution_count": 16,
      "outputs": [
        {
          "output_type": "execute_result",
          "data": {
            "text/plain": [
              "user_gender            0\n",
              "user_birthdate         1\n",
              "user_residence    179818\n",
              "ride_date              0\n",
              "time_start             0\n",
              "time_end           43212\n",
              "station_start          0\n",
              "station_end            0\n",
              "ride_duration          0\n",
              "ride_late          73064\n",
              "dtype: int64"
            ]
          },
          "metadata": {
            "tags": []
          },
          "execution_count": 16
        }
      ]
    },
    {
      "cell_type": "markdown",
      "metadata": {
        "id": "jnttAjS1NHlZ",
        "colab_type": "text"
      },
      "source": [
        "No caso da coluna `user_gender`, temos uma variável categórica. O ideal aqui é usar o valor mais frequente para o preenchimento dos valores. Vamos ver qual aquele que tem maior recorrência e substituir diretamente na coluna."
      ]
    },
    {
      "cell_type": "code",
      "metadata": {
        "id": "Zd7DkW1GNDBv",
        "colab_type": "code",
        "colab": {
          "base_uri": "https://localhost:8080/",
          "height": 204
        },
        "outputId": "23e832f6-e721-4443-98cd-8b9ee997ba85"
      },
      "source": [
        "# copiar novamente\n",
        "df_clean = df.copy()\n",
        "\n",
        "# ver valores ausentes\n",
        "df_clean.isnull().sum()"
      ],
      "execution_count": 18,
      "outputs": [
        {
          "output_type": "execute_result",
          "data": {
            "text/plain": [
              "user_gender          396\n",
              "user_birthdate         1\n",
              "user_residence    179905\n",
              "ride_date              0\n",
              "time_start             0\n",
              "time_end           43285\n",
              "station_start          0\n",
              "station_end            0\n",
              "ride_duration      73174\n",
              "ride_late          73174\n",
              "dtype: int64"
            ]
          },
          "metadata": {
            "tags": []
          },
          "execution_count": 18
        }
      ]
    },
    {
      "cell_type": "code",
      "metadata": {
        "id": "4j3C7LyRNdiQ",
        "colab_type": "code",
        "colab": {
          "base_uri": "https://localhost:8080/",
          "height": 68
        },
        "outputId": "99122c46-d878-4702-f911-118bce219dea"
      },
      "source": [
        "# ver o valor mais frequente\n",
        "df_clean.user_gender.value_counts()"
      ],
      "execution_count": 19,
      "outputs": [
        {
          "output_type": "execute_result",
          "data": {
            "text/plain": [
              "M    212608\n",
              "F     74318\n",
              "Name: user_gender, dtype: int64"
            ]
          },
          "metadata": {
            "tags": []
          },
          "execution_count": 19
        }
      ]
    },
    {
      "cell_type": "code",
      "metadata": {
        "id": "HDl6W4yZNwny",
        "colab_type": "code",
        "colab": {
          "base_uri": "https://localhost:8080/",
          "height": 204
        },
        "outputId": "fd588615-4f5d-4012-8ff0-f3b6f35386f8"
      },
      "source": [
        "# preencher os valores ausentes de user_gender com 'M'\n",
        "df_clean = df_clean.fillna({\"user_gender\": 'M'})\n",
        "\n",
        "# ver os valores ausentes\n",
        "df_clean.isnull().sum()"
      ],
      "execution_count": 20,
      "outputs": [
        {
          "output_type": "execute_result",
          "data": {
            "text/plain": [
              "user_gender            0\n",
              "user_birthdate         1\n",
              "user_residence    179905\n",
              "ride_date              0\n",
              "time_start             0\n",
              "time_end           43285\n",
              "station_start          0\n",
              "station_end            0\n",
              "ride_duration      73174\n",
              "ride_late          73174\n",
              "dtype: int64"
            ]
          },
          "metadata": {
            "tags": []
          },
          "execution_count": 20
        }
      ]
    },
    {
      "cell_type": "code",
      "metadata": {
        "id": "vCUzDUXpOKDI",
        "colab_type": "code",
        "colab": {}
      },
      "source": [
        ""
      ],
      "execution_count": null,
      "outputs": []
    }
  ]
}